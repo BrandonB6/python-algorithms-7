{
 "cells": [
  {
   "cell_type": "markdown",
   "metadata": {},
   "source": [
    "# Algorithms, Binary Search & Linked Lists"
   ]
  },
  {
   "cell_type": "markdown",
   "metadata": {},
   "source": [
    "## Tasks Today:\n",
    " \n",
    "1) <b>In-Place Algorithms</b> <br>\n",
    " &nbsp;&nbsp;&nbsp;&nbsp; a) Syntax <br>\n",
    " &nbsp;&nbsp;&nbsp;&nbsp; a) Out of Place Algorithm <br>\n",
    " &nbsp;&nbsp;&nbsp;&nbsp; b) In-Class Exercise #1 <br>\n",
    "2) <b>Two Pointers</b> <br>\n",
    "3) <b>Linked Lists</b> <br>\n",
    "4) <b>Merge Sort</b> <br>\n",
    " &nbsp;&nbsp;&nbsp;&nbsp; a) Video on Algorithms <br>\n",
    " &nbsp;&nbsp;&nbsp;&nbsp; b) How it Works <br>\n",
    "5) <b>Exercises</b> <br>\n",
    " &nbsp;&nbsp;&nbsp;&nbsp; a) Exercise #1 - Reverse a List in Place Using an In-Place Algorithm <br>\n",
    " &nbsp;&nbsp;&nbsp;&nbsp; b) Exercise #2 - Find Distinct Words <br>\n",
    " &nbsp;&nbsp;&nbsp;&nbsp; c) Exercise #3 - Write a program to implement a Linear Search Algorithm. <br>"
   ]
  },
  {
   "cell_type": "markdown",
   "metadata": {},
   "source": [
    "## In-Place Algorithms"
   ]
  },
  {
   "cell_type": "markdown",
   "metadata": {},
   "source": [
    "#### Syntax"
   ]
  },
  {
   "cell_type": "code",
   "execution_count": 18,
   "metadata": {},
   "outputs": [
    {
     "name": "stdout",
     "output_type": "stream",
     "text": [
      "before swap:[20, 4, 10]\n",
      "after swap: [10, 4, 20]\n",
      "10\n"
     ]
    }
   ],
   "source": [
    "#var[i], var[i+i] = var[i+i], var[i]\n",
    "\n",
    "def swap(a_list, x, y, z):\n",
    "    a_list[x], a_list[y], a_list[z] = a_list[z], a_list[y], a_list[x]\n",
    "    return a_list\n",
    "\n",
    "my_list = [20, 4, 10]\n",
    "\n",
    "print(f'before swap:{my_list}')\n",
    "\n",
    "#using swap calling indices for the order desired\n",
    "\n",
    "swap(my_list, 0, 1, 2)\n",
    "\n",
    "print(f'after swap: {my_list}')\n",
    "    \n",
    "      \n",
    "print(my_list[0])"
   ]
  },
  {
   "cell_type": "markdown",
   "metadata": {},
   "source": [
    "#### Out of Place Algorithm"
   ]
  },
  {
   "cell_type": "code",
   "execution_count": 17,
   "metadata": {},
   "outputs": [
    {
     "name": "stdout",
     "output_type": "stream",
     "text": [
      "[20, 4, 10]\n",
      "[10, 4, 20]\n",
      "Before ['a', 'b', 'c', 'd']\n",
      "after ['d', 'c', 'b', 'a']\n"
     ]
    }
   ],
   "source": [
    "#not swapping, completely reversing but also copies to another place in memory\n",
    "\n",
    "my_list_copy = my_list[::-1]\n",
    "print(my_list_copy)\n",
    "print(my_list)\n",
    "\n",
    "arr = ['a', 'b', 'c', 'd']\n",
    "new_arr = ['a'] * len(arr)\n",
    "\n",
    "print(\"Before\", arr)\n",
    "leng = len(arr) - 1\n",
    "\n",
    "for i in range(leng):\n",
    "    new_arr[i] = arr[leng - i]\n",
    "    \n",
    "print('after', new_arr)\n"
   ]
  },
  {
   "cell_type": "raw",
   "metadata": {},
   "source": []
  },
  {
   "cell_type": "markdown",
   "metadata": {},
   "source": [
    "#### In-Class Exercise #1 <br>\n",
    "<p>Write a function that takes in four arguments (list, index1, index2, index3), and swaps those three positions in the list passed in.</p>"
   ]
  },
  {
   "cell_type": "code",
   "execution_count": 19,
   "metadata": {},
   "outputs": [
    {
     "name": "stdout",
     "output_type": "stream",
     "text": [
      "[3, 4, 10, 8, 4, 2, 6]\n"
     ]
    }
   ],
   "source": [
    "l_1 = [10, 4, 3, 8, 4, 2, 6]\n",
    "\n",
    "def swap1(list, index1, index2, index3):\n",
    "    list[index1], list[index2], list[index3] = list[index3], list[index2], list[index1]\n",
    "    return list\n",
    "\n",
    "swap1(l_1, 0, 1, 2)\n",
    "\n",
    "print(l_1)\n"
   ]
  },
  {
   "cell_type": "markdown",
   "metadata": {},
   "source": [
    "## Two Pointers"
   ]
  },
  {
   "cell_type": "markdown",
   "metadata": {},
   "source": [
    "#### Syntax"
   ]
  },
  {
   "cell_type": "code",
   "execution_count": 20,
   "metadata": {},
   "outputs": [
    {
     "data": {
      "text/plain": [
       "[6, 2, 4, 8, 3, 4, 10]"
      ]
     },
     "execution_count": 20,
     "metadata": {},
     "output_type": "execute_result"
    }
   ],
   "source": [
    "# alist[left], alist[right] = alist[right], alist[left]\n",
    "\n",
    "def twpt (alist):\n",
    "    left = 0\n",
    "    right= len(alist) - 1\n",
    "    #set loop that swps things one pair at a time\n",
    "    while left <= right:\n",
    "        alist[left], alist[right] = alist[right], alist[left]\n",
    "        left += 1\n",
    "        right -= 1\n",
    "    return alist\n",
    "\n",
    "l_1 = [10, 4, 3, 8, 4, 2, 6]\n",
    "\n",
    "twpt(l_1)\n",
    "\n",
    "    "
   ]
  },
  {
   "cell_type": "markdown",
   "metadata": {},
   "source": [
    "#### Video of Algorithms <br>\n",
    "<p>Watch the video about algorithms.</p>\n",
    "\n",
    "https://www.youtube.com/watch?v=Q9HjeFD62Uk\n",
    "\n",
    "https://www.youtube.com/watch?v=kPRA0W1kECg\n",
    "\n",
    "https://www.youtube.com/watch?v=ZZuD6iUe3Pc"
   ]
  },
  {
   "cell_type": "markdown",
   "metadata": {},
   "source": [
    "# Sorting Algorithms"
   ]
  },
  {
   "cell_type": "markdown",
   "metadata": {},
   "source": [
    "#### Bubble Sort\n",
    "\n",
    "Worst Case: O(n^2) Time - O(1) Space"
   ]
  },
  {
   "cell_type": "code",
   "execution_count": 22,
   "metadata": {},
   "outputs": [
    {
     "data": {
      "text/plain": [
       "[1, 22, 33, 44, 55, 66, 88, 100]"
      ]
     },
     "execution_count": 22,
     "metadata": {},
     "output_type": "execute_result"
    }
   ],
   "source": [
    "# best case: o(n) - linear\n",
    "#compares the values next to eachother until complete\n",
    "\n",
    "def swap(i, j ,arr):\n",
    "    arr[i], arr[j] = arr[j], arr[i]\n",
    "    \n",
    "def bubble(arr):\n",
    "    isSort = False\n",
    "    while not isSort:\n",
    "        isSort = True\n",
    "        for num in range(len(arr) - 1):\n",
    "            if arr[num] > arr[num +1]:\n",
    "                swap(num, num +1, arr)\n",
    "                isSort = False\n",
    "\n",
    "    return arr\n",
    "\n",
    "bubble([22,55,88,44,1,100,33,66])"
   ]
  },
  {
   "cell_type": "markdown",
   "metadata": {},
   "source": [
    "##### Insertion Sort\n",
    "\n",
    "Worst Case: O(n^2) time - O(1)space"
   ]
  },
  {
   "cell_type": "code",
   "execution_count": 25,
   "metadata": {},
   "outputs": [
    {
     "data": {
      "text/plain": [
       "[1, 22, 33, 44, 55, 66, 88, 100]"
      ]
     },
     "execution_count": 25,
     "metadata": {},
     "output_type": "execute_result"
    }
   ],
   "source": [
    "#takes single value and compares them throughout the array\n",
    "\n",
    "def swap(i, j ,arr):\n",
    "    arr[i], arr[j] = arr[j], arr[i]\n",
    "    \n",
    "def insert(arr):\n",
    "    for i in range(1, len(arr)):\n",
    "        j = i\n",
    "        while j > 0 and arr[j] < arr[j-1]:\n",
    "            swap(j, j -1, arr)\n",
    "            j -= 1\n",
    "    return arr\n",
    "\n",
    "insert(([22,55,88,44,1,100,33,66]))"
   ]
  },
  {
   "cell_type": "markdown",
   "metadata": {},
   "source": [
    "## Merge Sort"
   ]
  },
  {
   "cell_type": "markdown",
   "metadata": {},
   "source": [
    "#### How it Works"
   ]
  },
  {
   "cell_type": "code",
   "execution_count": 30,
   "metadata": {},
   "outputs": [
    {
     "name": "stdout",
     "output_type": "stream",
     "text": [
      "Splitting... [12, 0, 20, 13, 15]\n",
      "Splitting... [12, 0]\n",
      "Splitting... [12]\n",
      "Merging... [12]\n",
      "Splitting... [0]\n",
      "Merging... [0]\n",
      "Merging... [0, 12]\n",
      "Splitting... [20, 13, 15]\n",
      "Splitting... [20]\n",
      "Merging... [20]\n",
      "Splitting... [13, 15]\n",
      "Splitting... [13]\n",
      "Merging... [13]\n",
      "Splitting... [15]\n",
      "Merging... [15]\n",
      "Merging... [13, 15]\n",
      "Merging... [13, 15, 20]\n",
      "Merging... [0, 12, 13, 15, 20]\n"
     ]
    },
    {
     "data": {
      "text/plain": [
       "[0, 12, 13, 15, 20]"
      ]
     },
     "execution_count": 30,
     "metadata": {},
     "output_type": "execute_result"
    }
   ],
   "source": [
    "#step 1 split everything into ouwn group\n",
    "#2 mfrom left to right, merge two groups together\n",
    "#3 while merging, place each itme in the corect position within the merged group\n",
    "#4 continue steps 3-4 until only one group is left\n",
    "\n",
    "from random import randint\n",
    "#used to gen list of 5 num from 0 -20\n",
    "\n",
    "nums = [randint(0,20) for i in range(5)]\n",
    "\n",
    "def mergeSort(alist):\n",
    "    print(\"Splitting...\", alist)\n",
    "    \n",
    "    #1 divide the array into equal parts as much as possible (use floor to get whole int)\n",
    "    if len(alist) > 1:\n",
    "        mid = len(alist) // 2\n",
    "        lefthalf= alist[:mid]\n",
    "        righthalf = alist[mid:]\n",
    "        \n",
    "        #use recursionto cal merge sort to perform spits if need then merge once the spits are done\n",
    "        mergeSort(lefthalf)\n",
    "        mergeSort(righthalf)\n",
    "        #index pointers for our list\n",
    "        j = 0 #left half pointer\n",
    "        i = 0 #right\n",
    "        k = 0 # mid\n",
    "        \n",
    "        # step 2 compare the two halfs\n",
    "        \n",
    "        while i < len(lefthalf) and j < len(righthalf):\n",
    "            if lefthalf[i] < righthalf[j]:\n",
    "                alist[k] = lefthalf[i]\n",
    "                i = i +1\n",
    "            else:\n",
    "                alist[k]= righthalf[j]\n",
    "                j = j +1\n",
    "            k = k + 1\n",
    "            \n",
    "        #3 while merging, place items in the correct positions\n",
    "        while i < len(lefthalf):\n",
    "            alist[k] = lefthalf[i]\n",
    "            i = i + 1\n",
    "            k = k + 1\n",
    "        while j < len(righthalf):\n",
    "            alist[k] = righthalf[j]\n",
    "            j = j + 1\n",
    "            k = k + 1\n",
    "    print(\"Merging...\", alist)\n",
    "    return alist\n",
    "\n",
    "mergeSort(nums)\n",
    "   \n"
   ]
  },
  {
   "cell_type": "markdown",
   "metadata": {},
   "source": [
    "# Binary Search\n",
    "\n",
    "The Binary Search algorithm works by finding the number in the middle of a given array and comparing it to the target. Given that the array is sorted\n",
    "\n",
    "* The worst case run time for this algorithm is `O(log(n))`"
   ]
  },
  {
   "cell_type": "code",
   "execution_count": 39,
   "metadata": {},
   "outputs": [
    {
     "data": {
      "text/plain": [
       "'the index is: 3'"
      ]
     },
     "execution_count": 39,
     "metadata": {},
     "output_type": "execute_result"
    }
   ],
   "source": [
    "#less = left , greater = right, list of numbers must be sorted!\n",
    "\n",
    "def binSearchHelper(arr, target, left, right):\n",
    "    while left <= right:\n",
    "        mid = (left + right) // 2\n",
    "        potMatch = arr[mid]\n",
    "        if target == potMatch:\n",
    "            return f'the index is: {mid}'\n",
    "        elif target < potMatch:\n",
    "            right = mid - 1\n",
    "        else:\n",
    "            left = mid + 1\n",
    "        \n",
    "    return -1\n",
    "\n",
    "def binSearch(arr, target):\n",
    "    return binSearchHelper(arr, target, 0 , len(arr) -1)\n",
    "           \n",
    "binSearch([22,44,55,66,88,100], 66)"
   ]
  },
  {
   "cell_type": "markdown",
   "metadata": {},
   "source": [
    "# Exercises"
   ]
  },
  {
   "cell_type": "markdown",
   "metadata": {},
   "source": [
    "### Exercise #1 <br>\n",
    "<p>Reverse the list below in-place using an in-place algorithm.<br>For extra credit: Reverse the strings at the same time.</p>"
   ]
  },
  {
   "cell_type": "code",
   "execution_count": 53,
   "metadata": {},
   "outputs": [
    {
     "data": {
      "text/plain": [
       "['.', 'ecnetnes', 'a', 'si', 'siht']"
      ]
     },
     "execution_count": 53,
     "metadata": {},
     "output_type": "execute_result"
    }
   ],
   "source": [
    "words = ['this' , 'is', 'a', 'sentence', '.']\n",
    "\n",
    "\n",
    "def swap(a_list, v, w, x, y, z,):\n",
    "    a_list_copy = []\n",
    "\n",
    "    a_list[v], a_list[w], a_list[x], a_list[y], a_list[z] = a_list[z], a_list[y], a_list[x], a_list[w], a_list[v]\n",
    "    for i in a_list: \n",
    "        x = i[::-1]\n",
    "        a_list_copy.append(x)\n",
    "            \n",
    "            \n",
    "    return a_list_copy\n",
    "\n",
    "swap(words,0 ,1 ,2, 3 ,4 )\n"
   ]
  },
  {
   "cell_type": "markdown",
   "metadata": {},
   "source": [
    "### Exercise #2 <br>\n",
    "<p>Create a function that counts how many distinct words are in the string below, then outputs a dictionary with the words as the key and the value as the amount of times that word appears in the string.<br>Should output:<br>{'a': 5,<br>\n",
    " 'abstract': 1,<br>\n",
    " 'an': 3,<br>\n",
    " 'array': 2, ... etc...</p>"
   ]
  },
  {
   "cell_type": "code",
   "execution_count": 74,
   "metadata": {},
   "outputs": [
    {
     "data": {
      "text/plain": [
       "[('a', 5),\n",
       " ('abstract', 1),\n",
       " ('an', 3),\n",
       " ('array', 2),\n",
       " ('associative', 1),\n",
       " ('be', 1),\n",
       " ('buckets', 1),\n",
       " ('can', 2),\n",
       " ('compute', 1),\n",
       " ('computing', 1),\n",
       " ('data', 2),\n",
       " ('desired', 1),\n",
       " ('found', 1),\n",
       " ('from', 1),\n",
       " ('function', 1),\n",
       " ('hash', 4),\n",
       " ('implements', 1),\n",
       " ('in', 1),\n",
       " ('index', 1),\n",
       " ('into', 1),\n",
       " ('is', 1),\n",
       " ('keys', 1),\n",
       " ('map', 2),\n",
       " ('of', 1),\n",
       " ('or', 1),\n",
       " ('slots', 1),\n",
       " ('structure', 2),\n",
       " ('table', 2),\n",
       " ('that', 1),\n",
       " ('the', 1),\n",
       " ('to', 2),\n",
       " ('type', 1),\n",
       " ('uses', 1),\n",
       " ('value', 1),\n",
       " ('values', 1),\n",
       " ('which', 2)]"
      ]
     },
     "execution_count": 74,
     "metadata": {},
     "output_type": "execute_result"
    }
   ],
   "source": [
    "a_text = 'In computing, a hash table hash map is a data structure which implements an associative array abstract data type, a structure that can map keys to values. A hash table uses a hash function to compute an index into an array of buckets or slots from which the desired value can be found'\n",
    "\n",
    "\n",
    "def wordCount(text):\n",
    "    for char in '-.,\\n':\n",
    "        text=text.replace(char,' ')\n",
    "        \n",
    "    text = text.lower()\n",
    "    word_list = text.split()\n",
    "    d = {}\n",
    "\n",
    "    for word in word_list: \n",
    "        d[word] = d.get(word, 0) + 1\n",
    "\n",
    "    word_freq = []\n",
    "\n",
    "    for key, value in d.items():\n",
    "        word_freq.append((key, value))\n",
    "\n",
    "    word_freq.sort()\n",
    "    \n",
    "    return(word_freq)\n",
    "\n",
    "\n",
    "wordCount(a_text)\n",
    "\n"
   ]
  },
  {
   "cell_type": "markdown",
   "metadata": {},
   "source": [
    "## Exercise #3\n",
    "\n",
    "Write a program to implement a Linear Search Algorithm. Also in a comment, write the Time Complexity of the following algorithm.\n",
    "\n",
    "#### Hint: Linear Searching will require searching a list for a given number. "
   ]
  },
  {
   "cell_type": "code",
   "execution_count": 81,
   "metadata": {},
   "outputs": [
    {
     "data": {
      "text/plain": [
       "70"
      ]
     },
     "execution_count": 81,
     "metadata": {},
     "output_type": "execute_result"
    }
   ],
   "source": [
    "nums_list = [10, 23, 35,70,11, 15]\n",
    "target = 70\n",
    "\n",
    "    \n",
    "def insert(arr, target):\n",
    "    for i in range(1, len(arr)):\n",
    "        j = i\n",
    "        while j > 0 and arr[j] < arr[j-1]:\n",
    "            j -= 1\n",
    "            if arr[j] == target:\n",
    "                return target\n",
    "            else: \n",
    "                return -1\n",
    "\n",
    "insert(nums_list, 70)\n",
    "\n",
    "#if number is not present return -1 , time complexity O(n^2)\n",
    "\n"
   ]
  }
 ],
 "metadata": {
  "kernelspec": {
   "display_name": "Python 3 (ipykernel)",
   "language": "python",
   "name": "python3"
  },
  "language_info": {
   "codemirror_mode": {
    "name": "ipython",
    "version": 3
   },
   "file_extension": ".py",
   "mimetype": "text/x-python",
   "name": "python",
   "nbconvert_exporter": "python",
   "pygments_lexer": "ipython3",
   "version": "3.11.4"
  }
 },
 "nbformat": 4,
 "nbformat_minor": 2
}
